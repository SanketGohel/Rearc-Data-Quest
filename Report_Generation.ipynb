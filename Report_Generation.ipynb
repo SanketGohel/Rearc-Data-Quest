{
  "cells": [
    {
      "cell_type": "code",
      "execution_count": null,
      "metadata": {
        "colab": {
          "base_uri": "https://localhost:8080/"
        },
        "id": "9q0tHRjgrUmL",
        "outputId": "dfd9c69c-061b-45c1-c81e-641dcfec0357"
      },
      "outputs": [
        {
          "name": "stdout",
          "output_type": "stream",
          "text": [
            "Requirement already satisfied: pandas in /usr/local/lib/python3.11/dist-packages (2.2.2)\n",
            "Requirement already satisfied: numpy>=1.23.2 in /usr/local/lib/python3.11/dist-packages (from pandas) (2.0.2)\n",
            "Requirement already satisfied: python-dateutil>=2.8.2 in /usr/local/lib/python3.11/dist-packages (from pandas) (2.9.0.post0)\n",
            "Requirement already satisfied: pytz>=2020.1 in /usr/local/lib/python3.11/dist-packages (from pandas) (2025.2)\n",
            "Requirement already satisfied: tzdata>=2022.7 in /usr/local/lib/python3.11/dist-packages (from pandas) (2025.2)\n",
            "Requirement already satisfied: six>=1.5 in /usr/local/lib/python3.11/dist-packages (from python-dateutil>=2.8.2->pandas) (1.17.0)\n"
          ]
        }
      ],
      "source": [
        "!pip install pandas"
      ]
    },
    {
      "cell_type": "code",
      "execution_count": 29,
      "metadata": {
        "id": "oW9MF18UrXLC"
      },
      "outputs": [],
      "source": [
        "import pandas as pd\n",
        "import json"
      ]
    },
    {
      "cell_type": "code",
      "execution_count": 40,
      "metadata": {
        "id": "JWiyINqCxaF2"
      },
      "outputs": [],
      "source": [
        "def clean_dataframe(df):\n",
        "    \"\"\"\n",
        "    Strips whitespace from column names and string values in the DataFrame.\n",
        "    Converts common columns to correct types where applicable.\n",
        "    \"\"\"\n",
        "    if df is None:\n",
        "        return df\n",
        "\n",
        "    df.columns = df.columns.str.strip()\n",
        "    for col in df.select_dtypes(include='object').columns:\n",
        "        df[col] = df[col].str.strip()\n",
        "\n",
        "    return df\n",
        "\n",
        "#Question 1:\n",
        "def calculate_mean_and_std(dataframe, start_year = 2013, end_year = 2018):\n",
        "    \"\"\"\n",
        "    Computes the mean and standard deviation of U.S. population\n",
        "    between start_year and end_year (inclusive) from the given DataFrame.\n",
        "\n",
        "    Parameters:\n",
        "        df (pd.DataFrame): DataFrame containing columns 'Year' and 'Population'\n",
        "        start_year (int): Start year of the range (inclusive)\n",
        "        end_year (int): End year of the range (inclusive)\n",
        "\n",
        "    Returns:\n",
        "        dict: {'mean': float, 'std_dev': float}\n",
        "    \"\"\"\n",
        "    try:\n",
        "\n",
        "        dataframe['Year'] = dataframe['Year'].astype(int)\n",
        "        filtered_df = (dataframe['Year'] >=start_year) & (dataframe['Year']<=end_year)\n",
        "        filtered_df = dataframe[filtered_df]\n",
        "\n",
        "        if filtered_df.empty:\n",
        "            print(f'No data found between years {start_year} and {end_year}.')\n",
        "            return {'mean': None, 'std_dev': None}\n",
        "\n",
        "        calculating_mean_population  = filtered_df['Population'].mean()\n",
        "        calculating_std_population  = filtered_df['Population'].std()\n",
        "\n",
        "        return {\n",
        "            'mean': calculating_mean_population,\n",
        "            'std_dev': calculating_std_population\n",
        "        }\n",
        "    except Exception as e:\n",
        "        print(f'Error computing statistics: {e}')\n",
        "        return {'mean': None, 'std_dev': None}\n",
        "\n",
        "#Question 2:\n",
        "def get_best_year_per_series(timeseries_df):\n",
        "    \"\"\"\n",
        "    For every series_id in the time-series dataframe, find the year with the largest sum of values.\n",
        "    Returns a dataframe with: series_id, best year, and max summed value.\n",
        "    \"\"\"\n",
        "    # Ensure proper data types\n",
        "    timeseries_df['value'] = pd.to_numeric(timeseries_df['value'], errors='coerce')\n",
        "    timeseries_df['year'] = timeseries_df['year'].astype(int)\n",
        "    timeseries_df['series_id'] = timeseries_df['series_id'].str.strip()\n",
        "\n",
        "    # Group by series_id and year, sum values\n",
        "    yearly_sum = timeseries_df.groupby(['series_id', 'year'])['value'].sum().reset_index()\n",
        "\n",
        "    # For each series_id, get the year with the max value\n",
        "    idx = yearly_sum.groupby('series_id')['value'].idxmax()\n",
        "    best_year_df = yearly_sum.loc[idx].reset_index(drop=True)\n",
        "\n",
        "    return best_year_df.rename(columns={'series_id':'series_id','year': 'best_year', 'value': 'max_value'})\n",
        "\n",
        "\n",
        "#Question 3:\n",
        "def get_series_with_population(timeseries_df, population_df, series_id, period = 'Q01'):\n",
        "    \"\"\"\n",
        "    Join time-series data (Part 1) and population data (Part 2) for a specific series_id and period.\n",
        "    Returns a dataframe with: series_id, year, period, value, and Population.\n",
        "    \"\"\"\n",
        "\n",
        "    # Clean string columns\n",
        "    timeseries_df['series_id'] = timeseries_df['series_id'].str.strip()\n",
        "    timeseries_df['period'] = timeseries_df['period'].str.strip()\n",
        "    population_df['Year'] = population_df['Year'].astype(int)\n",
        "\n",
        "\n",
        "\n",
        "    # Use query for filtering\n",
        "    filtered_ts = timeseries_df.query(\"series_id == @series_id and period == @period\").copy()\n",
        "\n",
        "    print(f'Filtered Timeseries data shape: {filtered_ts.head()}')\n",
        "    # Rename for join\n",
        "    population_df = population_df.rename(columns={'Year': 'year'})\n",
        "    print(f'Population data shape after rename: {population_df.head()}')\n",
        "\n",
        "    # Merge on 'year'\n",
        "    result = pd.merge(filtered_ts, population_df[['year', 'Population']], on='year', how='left')\n",
        "    print(f'Merged data shape: {result.head()}')\n",
        "\n",
        "    return result[['series_id', 'year', 'period', 'value', 'Population']]\n",
        "\n"
      ]
    },
    {
      "cell_type": "code",
      "execution_count": 43,
      "metadata": {
        "colab": {
          "base_uri": "https://localhost:8080/"
        },
        "collapsed": true,
        "id": "XtCbeIhvrkBJ",
        "outputId": "a0105505-27ab-4400-c319-8ef3efdd8da3"
      },
      "outputs": [
        {
          "name": "stdout",
          "output_type": "stream",
          "text": [
            "Loaded from S3 with shape (37002, 5)\n",
            "Loaded DataFrame with shape (10, 4)\n"
          ]
        }
      ],
      "source": [
        "import requests\n",
        "\n",
        "#Part 1 - S3 File link\n",
        "bls_data = pd.read_csv('https://rearc-data-quest-v3-blsdata-290950245089.s3.us-east-1.amazonaws.com/part1/pr.data.0.Current',sep='\\t')\n",
        "bls_data.columns = bls_data.columns.str.strip()\n",
        "print(f'Loaded from S3 with shape {bls_data.shape}')\n",
        "\n",
        "#Part 2 - S3 File Link\n",
        "response = 'https://rearc-data-quest-v3-blsdata-290950245089.s3.us-east-1.amazonaws.com/part2/population_data_2025-08-05T18-24-30Z.json'\n",
        "content = requests.get(response)\n",
        "data = content.json()\n",
        "\n",
        " # Adjust this based on the structure of the JSON file\n",
        "if isinstance(data, dict) and 'data' in data:\n",
        "    df = pd.json_normalize(data['data'])\n",
        "else:\n",
        "    df = pd.json_normalize(data)\n",
        "df.columns = df.columns.str.strip()\n",
        "print(f'Loaded DataFrame with shape {df.shape}')"
      ]
    },
    {
      "cell_type": "code",
      "execution_count": 44,
      "metadata": {
        "colab": {
          "base_uri": "https://localhost:8080/"
        },
        "id": "Rdm6S66o6GGb",
        "outputId": "8f00c936-bdb1-4e27-e29f-c34282587f92"
      },
      "outputs": [
        {
          "name": "stdout",
          "output_type": "stream",
          "text": [
            "Mean: 322069808.00, Std Dev: 4158441.04\n"
          ]
        }
      ],
      "source": [
        " # 1. Get Mean ans Standard Deviation\n",
        "stats = calculate_mean_and_std(df)\n",
        "if stats['mean'] is not None and stats['std_dev'] is not None:\n",
        "    print(f'Mean: {stats[\"mean\"]:.2f}, Std Dev: {stats[\"std_dev\"]:.2f}')\n",
        "else:\n",
        "    print('Failed to compute mean and standard deviation.')"
      ]
    },
    {
      "cell_type": "code",
      "execution_count": 45,
      "metadata": {
        "colab": {
          "base_uri": "https://localhost:8080/"
        },
        "id": "TQUVlZ_Hr6OD",
        "outputId": "a6927235-2640-4f57-f9c6-7f872b29f64e"
      },
      "outputs": [
        {
          "name": "stdout",
          "output_type": "stream",
          "text": [
            "Best year value per series is:        series_id  best_year  max_value\n",
            "0    PRS30006011       2022     20.500\n",
            "1    PRS30006012       2022     17.100\n",
            "2    PRS30006013       1998    705.895\n",
            "3    PRS30006021       2010     17.700\n",
            "4    PRS30006022       2010     12.400\n",
            "..           ...        ...        ...\n",
            "277  PRS88003192       2002    282.800\n",
            "278  PRS88003193       2024    860.838\n",
            "279  PRS88003201       2022     37.200\n",
            "280  PRS88003202       2022     28.700\n",
            "281  PRS88003203       2024    583.441\n",
            "\n",
            "[282 rows x 3 columns]\n"
          ]
        }
      ],
      "source": [
        "# 2. Get best year for each series_id\n",
        "\n",
        "best_year_report = get_best_year_per_series(bls_data)\n",
        "print(f'Best year value per series is: {best_year_report}')"
      ]
    },
    {
      "cell_type": "code",
      "execution_count": 46,
      "metadata": {
        "colab": {
          "base_uri": "https://localhost:8080/"
        },
        "id": "EkUqTnbm5_jU",
        "outputId": "799d124f-0ea6-4506-fe08-6580fb266216"
      },
      "outputs": [
        {
          "name": "stdout",
          "output_type": "stream",
          "text": [
            "Timeseries data shape: (37002, 5)\n",
            "Population data shape: (10, 4)\n",
            "Filtered Timeseries data shape:         series_id  year period  value footnote_codes\n",
            "1057  PRS30006032  1995    Q01    0.0            NaN\n",
            "1062  PRS30006032  1996    Q01   -4.2            NaN\n",
            "1067  PRS30006032  1997    Q01    2.8            NaN\n",
            "1072  PRS30006032  1998    Q01    0.9            NaN\n",
            "1077  PRS30006032  1999    Q01   -4.1            NaN\n",
            "Population data shape after rename:   Nation ID         Nation  year   Population\n",
            "0   01000US  United States  2013  316128839.0\n",
            "1   01000US  United States  2014  318857056.0\n",
            "2   01000US  United States  2015  321418821.0\n",
            "3   01000US  United States  2016  323127515.0\n",
            "4   01000US  United States  2017  325719178.0\n",
            "Merged data shape:      series_id  year period  value footnote_codes  Population\n",
            "0  PRS30006032  1995    Q01    0.0            NaN         NaN\n",
            "1  PRS30006032  1996    Q01   -4.2            NaN         NaN\n",
            "2  PRS30006032  1997    Q01    2.8            NaN         NaN\n",
            "3  PRS30006032  1998    Q01    0.9            NaN         NaN\n",
            "4  PRS30006032  1999    Q01   -4.1            NaN         NaN\n",
            "Best series with population is:       series_id  year period  value   Population\n",
            "0   PRS30006032  1995    Q01    0.0          NaN\n",
            "1   PRS30006032  1996    Q01   -4.2          NaN\n",
            "2   PRS30006032  1997    Q01    2.8          NaN\n",
            "3   PRS30006032  1998    Q01    0.9          NaN\n",
            "4   PRS30006032  1999    Q01   -4.1          NaN\n",
            "5   PRS30006032  2000    Q01    0.5          NaN\n",
            "6   PRS30006032  2001    Q01   -6.3          NaN\n",
            "7   PRS30006032  2002    Q01   -6.6          NaN\n",
            "8   PRS30006032  2003    Q01   -5.7          NaN\n",
            "9   PRS30006032  2004    Q01    2.0          NaN\n",
            "10  PRS30006032  2005    Q01   -0.5          NaN\n",
            "11  PRS30006032  2006    Q01    1.8          NaN\n",
            "12  PRS30006032  2007    Q01   -0.8          NaN\n",
            "13  PRS30006032  2008    Q01   -3.5          NaN\n",
            "14  PRS30006032  2009    Q01  -21.0          NaN\n",
            "15  PRS30006032  2010    Q01    3.2          NaN\n",
            "16  PRS30006032  2011    Q01    1.5          NaN\n",
            "17  PRS30006032  2012    Q01    2.5          NaN\n",
            "18  PRS30006032  2013    Q01    0.5  316128839.0\n",
            "19  PRS30006032  2014    Q01   -0.1  318857056.0\n",
            "20  PRS30006032  2015    Q01   -1.7  321418821.0\n",
            "21  PRS30006032  2016    Q01   -1.4  323127515.0\n",
            "22  PRS30006032  2017    Q01    0.9  325719178.0\n",
            "23  PRS30006032  2018    Q01    0.5  327167439.0\n",
            "24  PRS30006032  2019    Q01   -1.6  328239523.0\n",
            "25  PRS30006032  2020    Q01   -7.0          NaN\n",
            "26  PRS30006032  2021    Q01    0.7  331893745.0\n",
            "27  PRS30006032  2022    Q01    5.3  333287562.0\n",
            "28  PRS30006032  2023    Q01    0.3  334914896.0\n",
            "29  PRS30006032  2024    Q01   -0.7          NaN\n",
            "30  PRS30006032  2025    Q01    0.4          NaN\n"
          ]
        }
      ],
      "source": [
        "#3. Get series_id + population report\n",
        "merged_report = get_series_with_population(bls_data, df, series_id='PRS30006032', period='Q01')\n",
        "print(f'Best series with population is: {merged_report}')"
      ]
    }
  ],
  "metadata": {
    "colab": {
      "provenance": []
    },
    "kernelspec": {
      "display_name": "Python 3",
      "name": "python3"
    },
    "language_info": {
      "name": "python"
    }
  },
  "nbformat": 4,
  "nbformat_minor": 0
}
